{
 "cells": [
  {
   "cell_type": "code",
   "execution_count": 1,
   "id": "9eec9e81-8dd9-4647-a0b4-5fd101e1d7f1",
   "metadata": {
    "tags": []
   },
   "outputs": [],
   "source": [
    "import os\n",
    "import vtk\n",
    "import numpy as np\n",
    "from vtk import vtkXMLImageDataReader"
   ]
  },
  {
   "cell_type": "code",
   "execution_count": 2,
   "id": "d99e3341-6f14-4b5f-96e0-db5eb0869edb",
   "metadata": {
    "tags": []
   },
   "outputs": [],
   "source": [
    "np.set_printoptions(precision=20)"
   ]
  },
  {
   "cell_type": "code",
   "execution_count": 3,
   "id": "6db64147-2e3b-40f1-852d-e23a78d7940a",
   "metadata": {
    "tags": []
   },
   "outputs": [],
   "source": [
    "file_path = os.path.join(os.path.abspath(\".\"), \"tornado3d_vector.vti\")"
   ]
  },
  {
   "cell_type": "markdown",
   "id": "0afb71c1-aece-4148-87c6-ef628c0f0d74",
   "metadata": {},
   "source": [
    "#### Read the dataset"
   ]
  },
  {
   "cell_type": "code",
   "execution_count": 4,
   "id": "6bcbc8cc-1294-42bc-9c4f-2a3762b45ff9",
   "metadata": {},
   "outputs": [],
   "source": [
    "# Load the dataset\n",
    "data_reader = vtkXMLImageDataReader()\n",
    "data_reader.SetFileName(file_path)\n",
    "data_reader.Update()\n",
    "dataset = data_reader.GetOutput()"
   ]
  },
  {
   "cell_type": "code",
   "execution_count": 5,
   "id": "ffc72f79-1d0f-442d-b906-022c66732176",
   "metadata": {
    "tags": []
   },
   "outputs": [],
   "source": [
    "num_points = dataset.GetNumberOfPoints()\n",
    "p_data = dataset.GetPointData()"
   ]
  },
  {
   "cell_type": "code",
   "execution_count": 6,
   "id": "05178f54-da4d-42cb-ac5c-f926086cac51",
   "metadata": {
    "tags": []
   },
   "outputs": [
    {
     "data": {
      "text/plain": [
       "2097152"
      ]
     },
     "execution_count": 6,
     "metadata": {},
     "output_type": "execute_result"
    }
   ],
   "source": [
    "num_points"
   ]
  },
  {
   "cell_type": "code",
   "execution_count": 7,
   "id": "2f5b566a-c16f-4eab-920c-99d500b07ae3",
   "metadata": {
    "tags": []
   },
   "outputs": [
    {
     "data": {
      "text/plain": [
       "'vectors'"
      ]
     },
     "execution_count": 7,
     "metadata": {},
     "output_type": "execute_result"
    }
   ],
   "source": [
    "p_data.GetArrayName(0)"
   ]
  },
  {
   "cell_type": "markdown",
   "id": "c53a3bb7-9b21-421b-84e3-0ee225cb7266",
   "metadata": {},
   "source": [
    "## Create the ProbeFilter Object to perform probing"
   ]
  },
  {
   "cell_type": "code",
   "execution_count": 8,
   "id": "b89dae9f-bbe1-4503-a3b7-868b70bb1853",
   "metadata": {
    "tags": []
   },
   "outputs": [],
   "source": [
    "probe_obj = vtk.vtkProbeFilter()\n",
    "probe_obj.SetSourceData(dataset)\n",
    "probe_obj.SetSpatialMatch(0)\n",
    "probe_obj.SetValidPointMaskArrayName(\"vtkValidPointMask\")"
   ]
  },
  {
   "cell_type": "markdown",
   "id": "3032535f-deaf-4796-a50f-c17355dbadbb",
   "metadata": {},
   "source": [
    "## Util Functions"
   ]
  },
  {
   "cell_type": "markdown",
   "id": "80564fdd-674a-45e4-9c8a-34fd1466483a",
   "metadata": {},
   "source": [
    "### Define the bound checks"
   ]
  },
  {
   "cell_type": "code",
   "execution_count": 9,
   "id": "caf4ed2d-d0bf-4fb9-ab9c-854b8c526518",
   "metadata": {
    "tags": []
   },
   "outputs": [
    {
     "name": "stdout",
     "output_type": "stream",
     "text": [
      "[-10. -10. -10.] \t\t [9.99999999992 9.99999999992 9.99999999992]\n"
     ]
    }
   ],
   "source": [
    "bounds = dataset.GetBounds()\n",
    "lower_bounds = np.array([bounds[idx] for idx in range(0, len(bounds), 2)])\n",
    "upper_bounds = np.array([bounds[idx] for idx in range(1, len(bounds), 2)])\n",
    "print(lower_bounds,\"\\t\\t\",upper_bounds)"
   ]
  },
  {
   "cell_type": "code",
   "execution_count": 10,
   "id": "a0c1863f-e094-4dee-879c-1af30d2f0a58",
   "metadata": {
    "tags": []
   },
   "outputs": [],
   "source": [
    "class BoundExceed(Exception):\n",
    "    pass"
   ]
  },
  {
   "cell_type": "code",
   "execution_count": 11,
   "id": "e9ea24bc-beaa-4af6-89f2-286ac9d0af65",
   "metadata": {
    "tags": []
   },
   "outputs": [],
   "source": [
    "def bounds_exceed(point):\n",
    "    \"\"\"\n",
    "    Checks if the point is within the upper and lower bounds of the dataset provided\n",
    "    \"\"\"\n",
    "    if not np.all(np.hstack((lower_bounds <= point, point <= upper_bounds))):\n",
    "        raise BoundExceed()\n",
    "        \n",
    "    return point        "
   ]
  },
  {
   "cell_type": "markdown",
   "id": "3540379b-1951-4be5-8266-a5d513b308c3",
   "metadata": {},
   "source": [
    "### Probe function to find the vector value at a particular point using the ProbeFilter"
   ]
  },
  {
   "cell_type": "code",
   "execution_count": 12,
   "id": "10b33b40-a31a-4766-9a68-7c862ab9091e",
   "metadata": {
    "tags": []
   },
   "outputs": [],
   "source": [
    "def do_probe(point):\n",
    "    \"\"\"\n",
    "    Performs the Probeing using Probe Filter and returns the vector at the given point.\n",
    "    \"\"\"\n",
    "    \n",
    "    # As mentioned by Prof an unstructured grid has been created with just this single point and have set this as the InputData for the Probe Filter     \n",
    "    unstructured_grid = vtk.vtkUnstructuredGrid()\n",
    "\n",
    "    points = vtk.vtkPoints()\n",
    "    points.InsertNextPoint(point)\n",
    "    unstructured_grid.SetPoints(points)\n",
    "    probe_obj.SetInputData(unstructured_grid)\n",
    "\n",
    "    probe_obj.Update()\n",
    "    \n",
    "    vector = probe_obj.GetOutput().GetPointData().GetArray(\"vectors\").GetTuple(0)    \n",
    "    return np.array(vector)"
   ]
  },
  {
   "cell_type": "markdown",
   "id": "0a86b726-1995-48ed-9ceb-565d8dc6f418",
   "metadata": {},
   "source": [
    "### RK4 Implementation"
   ]
  },
  {
   "cell_type": "code",
   "execution_count": 13,
   "id": "9000ecbb-f317-459f-bcc9-08753838bf3d",
   "metadata": {
    "tags": []
   },
   "outputs": [],
   "source": [
    "def rk4_integrate(seed, step_size, max_steps, step_factor=1, c_factor=1):\n",
    "    \"\"\"\n",
    "    Performs the RK4 integration to find the next point based on the vector values at the current point\n",
    "    \n",
    "    Arguements:\n",
    "        step_factor: There seems to be a difference in the plot with the value of 2 as discussed in Class. A value of 1 seems to give the required plot\n",
    "        c_factor: There seems to be a difference in the plot with the value of 0.5 as discussed in Class. A value of 1 seems to give the required plot\n",
    "    \"\"\"\n",
    "    \n",
    "    streamline_points = []\n",
    "    current_point = np.array(seed)\n",
    "\n",
    "    for _ in range(max_steps):\n",
    "        \n",
    "        try:\n",
    "            a = step_factor * step_size * do_probe(bounds_exceed(current_point))\n",
    "            b = step_factor * step_size * do_probe(bounds_exceed(current_point + (a*0.5)))\n",
    "            c = step_factor * step_size * do_probe(bounds_exceed(current_point + (b*0.5)))\n",
    "            d = step_factor * step_size * do_probe(bounds_exceed(current_point + (c*c_factor)))\n",
    "\n",
    "            new_point = current_point + ((a + 2*b + 2*c + d) / 6)\n",
    "\n",
    "            streamline_points.append(new_point)\n",
    "            current_point = new_point\n",
    "            \n",
    "        except BoundExceed as err:\n",
    "            # If the bound exceeds, then break and give back the points accumulated till now \n",
    "            print(f\"BoundExceedException: {str(err)}\")\n",
    "            break\n",
    "\n",
    "    return streamline_points"
   ]
  },
  {
   "cell_type": "markdown",
   "id": "71b73c94-8501-4867-8e2d-bfc223fddb70",
   "metadata": {},
   "source": [
    "### Create the PolyData"
   ]
  },
  {
   "cell_type": "code",
   "execution_count": 14,
   "id": "0246eb00-92a1-44c9-a64d-b845539add76",
   "metadata": {
    "tags": []
   },
   "outputs": [],
   "source": [
    "def create_polydata(points):\n",
    "    \"\"\"\n",
    "    Use the incoming points data to create a VTK PolyData\n",
    "    \"\"\"\n",
    "    \n",
    "    # Create vtkPoints\n",
    "    vtk_points = vtk.vtkPoints()\n",
    "    for point in points:\n",
    "        vtk_points.InsertNextPoint(point)\n",
    "\n",
    "    # Create a polyline\n",
    "    polyline = vtk.vtkPolyLine()\n",
    "    polyline.GetPointIds().SetNumberOfIds(len(points))\n",
    "    for i in range(len(points)):\n",
    "        polyline.GetPointIds().SetId(i, i)\n",
    "\n",
    "    # Create a cell array to store the polyline\n",
    "    lines = vtk.vtkCellArray()\n",
    "    lines.InsertNextCell(polyline)\n",
    "\n",
    "    # Create a polydata to store everything\n",
    "    polydata = vtk.vtkPolyData()\n",
    "    polydata.SetPoints(vtk_points)\n",
    "    polydata.SetLines(lines)\n",
    "    \n",
    "    return polydata"
   ]
  },
  {
   "cell_type": "markdown",
   "id": "d2d3eeff-f1df-46a9-9f3c-b242246b6cff",
   "metadata": {},
   "source": [
    "### Write the Polyline onto the VTP file"
   ]
  },
  {
   "cell_type": "code",
   "execution_count": 15,
   "id": "4d03df81-25f8-40f2-97e2-9376cfe2776f",
   "metadata": {
    "tags": []
   },
   "outputs": [],
   "source": [
    "def write_vtp_file(polydata, filename):\n",
    "    \"\"\"\n",
    "    Write the Polydata object into the VTP file. The path for the file has been passed as param\n",
    "    \"\"\"\n",
    "    writer = vtk.vtkXMLPolyDataWriter()\n",
    "    writer.SetInputData(polydata)\n",
    "    writer.SetFileName(filename)\n",
    "    writer.Write()"
   ]
  },
  {
   "cell_type": "markdown",
   "id": "6a9ae3e7-c94e-4f57-b742-eeb64f40df7d",
   "metadata": {},
   "source": [
    "### Render Polydata"
   ]
  },
  {
   "cell_type": "code",
   "execution_count": 16,
   "id": "58276349-dc6c-47f8-88c9-212460724d87",
   "metadata": {
    "tags": []
   },
   "outputs": [],
   "source": [
    "def render_polydata(polydata):\n",
    "    \"\"\"\n",
    "    Render the Polydata in VTK itself\n",
    "    \"\"\"\n",
    "    \n",
    "    # Create a mapper\n",
    "    mapper = vtk.vtkPolyDataMapper()\n",
    "    mapper.SetInputData(polydata)\n",
    "\n",
    "    # Create an actor\n",
    "    actor = vtk.vtkActor()\n",
    "    actor.SetMapper(mapper)\n",
    "    actor.GetProperty().SetLineWidth(2)\n",
    "    \"\"\" A color similar to the one shown in the question diagram has been selected \"\"\"\n",
    "    actor.GetProperty().SetColor(0.01, 0.85, 0.32)\n",
    "\n",
    "    # Create a renderer\n",
    "    renderer = vtk.vtkRenderer()\n",
    "    renderer.AddActor(actor)\n",
    "    renderer.SetBackground(1, 1, 1)\n",
    "\n",
    "    # Create a render window\n",
    "    render_window = vtk.vtkRenderWindow()\n",
    "    render_window.AddRenderer(renderer)\n",
    "\n",
    "    # Create a render window interactor\n",
    "    render_window_interactor = vtk.vtkRenderWindowInteractor()\n",
    "    render_window_interactor.SetRenderWindow(render_window)\n",
    "\n",
    "    # Initialize the interactor and start the rendering loop\n",
    "    render_window.Render()\n",
    "    render_window_interactor.Start()"
   ]
  },
  {
   "cell_type": "markdown",
   "id": "bbbe54db-d5e7-4b67-8fcc-b250fa9f93f4",
   "metadata": {},
   "source": [
    "## Get the User defined inputs"
   ]
  },
  {
   "cell_type": "code",
   "execution_count": 36,
   "id": "954f1309-3d42-41f2-b87f-6d82638b871f",
   "metadata": {
    "tags": []
   },
   "outputs": [
    {
     "name": "stdin",
     "output_type": "stream",
     "text": [
      "Enter seed location (x y z):  5 6 15\n"
     ]
    },
    {
     "name": "stdout",
     "output_type": "stream",
     "text": [
      "[5.0, 6.0, 15.0]\n"
     ]
    }
   ],
   "source": [
    "SEED = input(\"Enter seed location (x y z): \").split() # [0,0,7]\n",
    "SEED = [float(coord) for coord in SEED]\n",
    "print(SEED)"
   ]
  },
  {
   "cell_type": "code",
   "execution_count": 39,
   "id": "1e62e0cf-6a3b-4cde-8e7c-f084c4ecbe8a",
   "metadata": {
    "tags": []
   },
   "outputs": [],
   "source": [
    "STEP_SIZE = 0.05\n",
    "MAX_STEPS = 1000\n",
    "RESULT_VTP_FIFLE_NAME = \"./streamline_polydata.vtp\""
   ]
  },
  {
   "cell_type": "code",
   "execution_count": 40,
   "id": "a63158de-eaf6-4e20-a577-9d88ea3575a4",
   "metadata": {
    "tags": []
   },
   "outputs": [
    {
     "name": "stdout",
     "output_type": "stream",
     "text": [
      "BoundExceedException: \n",
      "BoundExceedException: \n"
     ]
    }
   ],
   "source": [
    "forward_streamline = rk4_integrate(SEED, STEP_SIZE, MAX_STEPS, step_factor=1, c_factor=1)\n",
    "backward_streamline = rk4_integrate(SEED, -STEP_SIZE, MAX_STEPS, step_factor=1, c_factor=1)[::-1]\n",
    "streamline_points = np.array(backward_streamline + [SEED] + forward_streamline)"
   ]
  },
  {
   "cell_type": "code",
   "execution_count": 41,
   "id": "dbb6dcdd-7a75-4e5e-849d-9bbf583160c6",
   "metadata": {
    "tags": []
   },
   "outputs": [],
   "source": [
    "streamline_polydata = create_polydata(streamline_points)"
   ]
  },
  {
   "cell_type": "code",
   "execution_count": 42,
   "id": "f5e8e3ec-f3c4-4257-89c2-805f3b72bd97",
   "metadata": {
    "tags": []
   },
   "outputs": [],
   "source": [
    "write_vtp_file(streamline_polydata, RESULT_VTP_FIFLE_NAME)"
   ]
  },
  {
   "cell_type": "code",
   "execution_count": 43,
   "id": "781f48ad-e9c3-4e68-910e-125938b5e9a0",
   "metadata": {
    "tags": []
   },
   "outputs": [],
   "source": [
    "render_polydata(streamline_polydata)"
   ]
  },
  {
   "cell_type": "code",
   "execution_count": 28,
   "id": "12e2d53c-80a3-4a4c-9c50-37d9324ed181",
   "metadata": {},
   "outputs": [
    {
     "data": {
      "text/plain": [
       "(590, 3)"
      ]
     },
     "execution_count": 28,
     "metadata": {},
     "output_type": "execute_result"
    }
   ],
   "source": [
    "streamline_points.shape"
   ]
  }
 ],
 "metadata": {
  "kernelspec": {
   "display_name": "Python 3 (ipykernel)",
   "language": "python",
   "name": "python3"
  },
  "language_info": {
   "codemirror_mode": {
    "name": "ipython",
    "version": 3
   },
   "file_extension": ".py",
   "mimetype": "text/x-python",
   "name": "python",
   "nbconvert_exporter": "python",
   "pygments_lexer": "ipython3",
   "version": "3.8.17"
  }
 },
 "nbformat": 4,
 "nbformat_minor": 5
}
